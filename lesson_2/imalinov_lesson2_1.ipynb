{
 "cells": [
  {
   "cell_type": "markdown",
   "metadata": {},
   "source": [
    "1) Необходимо собрать информацию о вакансиях на вводимую должность (используем input или через аргументы) с сайта superjob.ru и hh.ru. Приложение должно анализировать несколько страниц сайта(также вводим через input или аргументы). Получившийся список должен содержать в себе минимум:\n",
    "\n",
    "        *Наименование вакансии\n",
    "        *Предлагаемую зарплату (отдельно мин. и и отдельно макс.)\n",
    "        *Ссылку на саму вакансию        \n",
    "        *Сайт откуда собрана вакансия\n",
    "По своему желанию можно добавить еще работодателя и расположение. Данная структура должна быть одинаковая для вакансий с обоих сайтов. Общий результат можно вывести с помощью dataFrame через pandas.\n"
   ]
  },
  {
   "cell_type": "code",
   "execution_count": 1,
   "metadata": {
    "pycharm": {
     "is_executing": false
    }
   },
   "outputs": [],
   "source": [
    "import re\n",
    "import urllib.parse\n",
    "import urllib.request as request\n",
    "import pandas as pd\n",
    "from typing import List\n",
    "\n",
    "import requests\n",
    "from bs4 import BeautifulSoup as bs"
   ]
  },
  {
   "cell_type": "code",
   "execution_count": 2,
   "metadata": {
    "pycharm": {
     "is_executing": false
    }
   },
   "outputs": [],
   "source": [
    "class WorkGrab:\n",
    "    def __init__(self, grabbers: List['SuperJob'], search_string=\"\"):\n",
    "        self.grabbers = grabbers\n",
    "        self.search_string = search_string\n",
    "\n",
    "    def get_page(self, keywords, page=1, ):\n",
    "        return self._do_request(self._url, {\"page\": page, \"keywords\": keywords})\n",
    "\n",
    "    def __iter__(self):\n",
    "        for grabber in self.grabbers:\n",
    "            gr = grabber(self.search_string)\n",
    "            for num in range(1, 6):\n",
    "                page = gr.get_page(num)\n",
    "                yield from gr.next(page.text)"
   ]
  },
  {
   "cell_type": "code",
   "execution_count": 3,
   "metadata": {
    "pycharm": {
     "is_executing": false
    }
   },
   "outputs": [],
   "source": [
    "class SuperJob:\n",
    "    MAIN_URL = \"https://www.superjob.ru/\"\n",
    "    SEARCH_URL = \"/vacancy/search/\"\n",
    "    SOURCE = \"superjob\"\n",
    "\n",
    "    def __init__(self, search_string=\"\"):\n",
    "        self._config = self._configure()\n",
    "        self.search_string = search_string\n",
    "\n",
    "    def _configure(self):\n",
    "        url = request.urljoin(self.MAIN_URL, self.SEARCH_URL)\n",
    "        config = {\n",
    "            \"main_url\": self.MAIN_URL,\n",
    "            \"url\": url\n",
    "        }\n",
    "        return config\n",
    "\n",
    "    @property\n",
    "    def _url(self):\n",
    "        return self._config[\"url\"]\n",
    "\n",
    "    def get_page(self, page=1, ):\n",
    "        return self._do_request(self._url, {\"page\": page,\n",
    "                                            \"keywords\": self.search_string})\n",
    "\n",
    "    def _append_search_params(self):\n",
    "        params = {\n",
    "            \"geo[c][0]\": 1\n",
    "        }\n",
    "        return params\n",
    "\n",
    "    def _do_request(self, url, params: dict):\n",
    "        params.update(self._append_search_params())\n",
    "        return requests.get(url, params)\n",
    "\n",
    "    @classmethod\n",
    "    def _quote(cls, value: str):\n",
    "        return value\n",
    "\n",
    "    def next(self, text):\n",
    "        soup = bs(text, \"lxml\")\n",
    "        for vacancy in self._find_vacancies(soup):\n",
    "            link = vacancy.find(\"a\", {\"class\": [\"_2JivQ\", \"_3dPok\"]})\n",
    "            salary = self._parse_salary(vacancy)\n",
    "\n",
    "            yield {\n",
    "                \"text\": link.text,\n",
    "                \"href\": self._href(link),\n",
    "                \"salary\": salary,\n",
    "                \"source\": self.SOURCE\n",
    "            }\n",
    "\n",
    "    def _href(self, soup):\n",
    "        href = soup.attrs['href']\n",
    "        return urllib.parse.urljoin(self.MAIN_URL, href)\n",
    "\n",
    "    def _find_vacancies(self, soup):\n",
    "        all_vacancies = soup.select(\"div._2g1F->\"\n",
    "                                    \"div._212By._37XTu>\"\n",
    "                                    \"div._2g1F->\"\n",
    "                                    \"div._212By._37XTu\")\n",
    "        return all_vacancies\n",
    "\n",
    "    def _parse_salary(self, source):\n",
    "        table = str.maketrans(\"от\\xa0₽\", \"    \")\n",
    "        reg = re.compile(\"\\d+\")\n",
    "\n",
    "        salary_raw = reg.findall(\n",
    "            source\n",
    "                .find(\"span\", {\"class\": \"f-test-text-company-item-salary\"})\n",
    "                .text\n",
    "                .translate(table)\n",
    "                .strip()\n",
    "        )\n",
    "        return \"\".join(salary_raw[:2]) if salary_raw else None\n"
   ]
  },
  {
   "cell_type": "code",
   "execution_count": 4,
   "metadata": {
    "pycharm": {
     "is_executing": false
    }
   },
   "outputs": [],
   "source": [
    "class HeadHunter:\n",
    "    MAIN_URL = \"https://hh.ru\"\n",
    "    SEARCH_URL = \"/search/vacancy\"\n",
    "    SOURCE = \"hh\"\n",
    "\n",
    "    table = str.maketrans(\"от\\xa0₽\", \"    \")\n",
    "    number_reg = re.compile(\"\\d+\")\n",
    "\n",
    "    def __init__(self, search_string=\"\"):\n",
    "        self._config = self._configure()\n",
    "        self.search_string = search_string\n",
    "\n",
    "    def _configure(self):\n",
    "        url = request.urljoin(self.MAIN_URL, self.SEARCH_URL)\n",
    "        config = {\n",
    "            \"main_url\": self.MAIN_URL,\n",
    "            \"url\": url\n",
    "        }\n",
    "        return config\n",
    "\n",
    "    @property\n",
    "    def _url(self):\n",
    "        return self._config[\"url\"]\n",
    "\n",
    "    def get_page(self, page):\n",
    "        page -= 1\n",
    "        return self._do_request(self._url, {\"page\": page,\n",
    "                                            \"text\": self.search_string})\n",
    "\n",
    "    def _append_search_params(self):\n",
    "        params = {\n",
    "            \"clusters\": True,\n",
    "            \"enable_snippets\": True,\n",
    "            \"showClusters\": True,\n",
    "\n",
    "        }\n",
    "        return params\n",
    "\n",
    "    def _do_request(self, url, params: dict):\n",
    "        params.update(self._append_search_params())\n",
    "        return requests.get(url, params,\n",
    "                            headers={\"User-Agent\": \"Chrome/51.0.2704.64 Safari/537.36\"})\n",
    "\n",
    "    def next(self, text):\n",
    "        soup = bs(text, \"lxml\")\n",
    "        for vacancy in self._find_vacancies(soup):\n",
    "            title = vacancy.find(\"div\", {\"class\": \"resume-search-item__name\"})\n",
    "            salary = self._parse_salary(vacancy)\n",
    "\n",
    "            yield {\n",
    "                \"text\": title.text,\n",
    "                \"href\": self._href(title),\n",
    "                \"salary\": salary,\n",
    "                \"source\": self.SOURCE\n",
    "            }\n",
    "\n",
    "    def _href(self, soup):\n",
    "        href = soup.find(\"a\").attrs['href']\n",
    "        return urllib.parse.urljoin(self.MAIN_URL, href)\n",
    "\n",
    "    def _find_vacancies(self, soup):\n",
    "        all_vacancies = soup.findAll(\"div\", {\"class\": \"vacancy-serp-item\"})\n",
    "        return all_vacancies\n",
    "\n",
    "    def _parse_salary(self, source):\n",
    "        item = source.find(\"div\", {\"class\": \"vacancy-serp-item__compensation\"})\n",
    "        if item is None:\n",
    "            return None\n",
    "\n",
    "        salary_raw = self.number_reg.findall(\n",
    "            item.text.translate(self.table).strip()\n",
    "        )\n",
    "        return \"\".join(salary_raw[:2]) if salary_raw else None"
   ]
  },
  {
   "cell_type": "code",
   "execution_count": 5,
   "metadata": {
    "pycharm": {
     "is_executing": false
    }
   },
   "outputs": [
    {
     "name": "stdout",
     "output_type": "stream",
     "text": [
      "                                                href  salary    source  \\\n",
      "0  https://www.superjob.ru/vakansii/python-razrab...   70000  superjob   \n",
      "1  https://www.superjob.ru/vakansii/lead-razrabot...  150000  superjob   \n",
      "2  https://www.superjob.ru/vakansii/razrabotchik-...    None  superjob   \n",
      "3  https://www.superjob.ru/vakansii/fullstack-raz...    None  superjob   \n",
      "4  https://www.superjob.ru/vakansii/backend-razra...   35000  superjob   \n",
      "\n",
      "                           text  \n",
      "0  Python-разработчик (backend)  \n",
      "1          Lead-разработчик php  \n",
      "2        Разработчик алгоритмов  \n",
      "3     FullStack-разработчик PHP  \n",
      "4           Backend разработчик  \n",
      "href      145\n",
      "salary     79\n",
      "source    145\n",
      "text      145\n",
      "dtype: int64\n"
     ]
    }
   ],
   "source": [
    "work_grab = WorkGrab(grabbers=[SuperJob, HeadHunter], search_string=\"Разработчик Python\")\n",
    "\n",
    "vacancies = []\n",
    "for vacancy in work_grab:\n",
    "    vacancies.append(vacancy)\n",
    "\n",
    "df = pd.DataFrame(vacancies, columns=['href', \"salary\", \"source\", \"text\"])\n",
    "\n",
    "print(df.head())\n",
    "print(df.count())"
   ]
  },
  {
   "cell_type": "code",
   "execution_count": null,
   "metadata": {},
   "outputs": [],
   "source": []
  }
 ],
 "metadata": {
  "kernelspec": {
   "display_name": "Python 3",
   "language": "python",
   "name": "python3"
  },
  "language_info": {
   "codemirror_mode": {
    "name": "ipython",
    "version": 3
   },
   "file_extension": ".py",
   "mimetype": "text/x-python",
   "name": "python",
   "nbconvert_exporter": "python",
   "pygments_lexer": "ipython3",
   "version": "3.7.3"
  },
  "pycharm": {
   "stem_cell": {
    "cell_type": "raw",
    "metadata": {
     "collapsed": false
    },
    "source": []
   }
  }
 },
 "nbformat": 4,
 "nbformat_minor": 1
}
