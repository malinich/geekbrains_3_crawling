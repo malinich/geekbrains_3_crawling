{
 "cells": [
  {
   "cell_type": "code",
   "execution_count": 1,
   "metadata": {
    "pycharm": {
     "is_executing": false
    }
   },
   "outputs": [],
   "source": [
    "import logging\n",
    "from pprint import pprint\n",
    "from hashlib import md5\n",
    "from time import time\n",
    "import requests\n",
    "import json"
   ]
  },
  {
   "cell_type": "markdown",
   "metadata": {},
   "source": [
    "Задание 1   \n",
    "\n",
    "Посмотреть документацию к API гитхаба, разобраться как вывести список репозиториев для конкретного пользователя, сохранить JSON-вывод в файле *.json"
   ]
  },
  {
   "cell_type": "markdown",
   "metadata": {},
   "source": [
    "#### Подготовка класса"
   ]
  },
  {
   "cell_type": "code",
   "execution_count": 2,
   "metadata": {
    "pycharm": {
     "is_executing": false,
     "name": "#%%\n"
    }
   },
   "outputs": [],
   "source": [
    "config = {\n",
    "    \"main-url\": \"https://api.github.com/\"\n",
    "}\n",
    "\n",
    "\n",
    "class GitHubUrl:\n",
    "    url_template = {\n",
    "        \"repos_url\": \"users/{}/repos\" \n",
    "    }\n",
    "    \n",
    "    def __init__(self, config: dict):\n",
    "        self.config = config\n",
    "    \n",
    "    @property\n",
    "    def base(self):\n",
    "        return self.config[\"main-url\"]\n",
    "\n",
    "    def repos(self, user):\n",
    "        url = self.base + \\\n",
    "              self.url_template[\"repos_url\"]\\\n",
    "                  .format(user)\n",
    "        return self._do_request(url)\n",
    "\n",
    "    def _do_request(self, url, **kwargs) -> requests.Response:\n",
    "        return requests.get(url, **kwargs)\n",
    "    \n",
    "    def write(self, f_name):\n",
    "        with open(f\"/tmp/{f_name}\", \"w\") as f:\n",
    "            f.write(json.dumps(repos))\n",
    "    "
   ]
  },
  {
   "cell_type": "markdown",
   "metadata": {
    "pycharm": {
     "is_executing": false,
     "name": "#%% \n"
    }
   },
   "source": [
    "#### Сбор имен репозиториев по гитхаб для пользователя malinich"
   ]
  },
  {
   "cell_type": "code",
   "execution_count": 3,
   "metadata": {
    "pycharm": {
     "is_executing": false,
     "name": "#%%\n"
    }
   },
   "outputs": [
    {
     "name": "stdout",
     "output_type": "stream",
     "text": [
      "['awesome',\n",
      " 'awesomeWM',\n",
      " 'booknotes',\n",
      " 'codejam',\n",
      " 'ep2016',\n",
      " 'Flask-Admin-Dashboard',\n",
      " 'GDG-Exercise-1',\n",
      " 'GDG-Exercise-2',\n",
      " 'GDG-FINAL_PRJ',\n",
      " 'geekbrains',\n",
      " 'geekbrains_2_python_for_pandas',\n",
      " 'Geekbrains_DB_0607',\n",
      " 'greenback',\n",
      " 'icl-back',\n",
      " 'ICL-FRONT',\n",
      " 'inmem_vms',\n",
      " 'Junior_dev',\n",
      " 'JWMeetMe',\n",
      " 'marvel',\n",
      " 'MarvelSystem',\n",
      " 'MarvelSystemV2',\n",
      " 'pdfImageParser',\n",
      " 'pika',\n",
      " 'reportas',\n",
      " 'retrowatch',\n",
      " 'settings',\n",
      " 'small-coerce',\n",
      " 'Tools',\n",
      " 'Virtualization-Documentation',\n",
      " 'wli']\n"
     ]
    }
   ],
   "source": [
    "service = GitHubUrl(config) \n",
    "repos = service\\\n",
    "    .repos(\"malinich\")\\\n",
    "    .json()\n",
    "\n",
    "names = [\n",
    "    repo[\"name\"] for repo in repos\n",
    "]\n",
    "pprint(names)"
   ]
  },
  {
   "cell_type": "markdown",
   "metadata": {},
   "source": [
    "Сохраняем в файлик"
   ]
  },
  {
   "cell_type": "code",
   "execution_count": 4,
   "metadata": {},
   "outputs": [],
   "source": [
    "service.write(\"github2.json\")"
   ]
  },
  {
   "cell_type": "markdown",
   "metadata": {},
   "source": [
    "Задание 2  \n",
    "\n",
    "Изучить список открытых API. Найти среди них любое, которое требует авторизацию (любого типа). Выполнить запросы к нему, пройдя авторизацию.  Результат ответа от сервера записать в файл \n",
    "\n"
   ]
  },
  {
   "cell_type": "code",
   "execution_count": 5,
   "metadata": {
    "pycharm": {
     "is_executing": false
    }
   },
   "outputs": [],
   "source": [
    "# ключи затерты хххх для безопасности, так как это уедет в репозиторий гитхаб\n",
    "config = {\n",
    "    \"main_url\": \"http://gateway.marvel.com\",\n",
    "    \"public\": \"xxxx65b38cdcd75799f1f053xxxxxxxx\",\n",
    "    \"private\": \"xxxx91fef4d4316e3df0009f00axxxxxxxxxxxxx\"\n",
    "} "
   ]
  },
  {
   "cell_type": "code",
   "execution_count": 11,
   "metadata": {
    "pycharm": {
     "is_executing": false
    }
   },
   "outputs": [],
   "source": [
    "class MarvelApi:\n",
    "    url_template = {\n",
    "        \"comics\": \"/v1/public/comics\" \n",
    "    }\n",
    "        \n",
    "    def __init__(self, config):\n",
    "        self.config = config\n",
    "    \n",
    "    @property\n",
    "    def base(self):\n",
    "        return self.config['main_url']\n",
    "\n",
    "    @property\n",
    "    def _private(self):\n",
    "        return self.config['private']\n",
    "    @property\n",
    "    def _public(self):\n",
    "        return self.config['public']\n",
    "\n",
    "    def generate_auth_hash(self, ts):\n",
    "        auth_str:str = f\"{ts}\" \\\n",
    "                       f\"{self._private}\" \\\n",
    "                       f\"{self._public}\"\n",
    "        return md5(auth_str.encode(\"utf-8\")).hexdigest()\n",
    "\n",
    "    def comics(self):\n",
    "        url = self.base + \\\n",
    "              self.url_template[\"comics\"]\n",
    "        return self._do_request(url, {})\n",
    "    \n",
    "    def _do_request(self, url, params: dict, **kwargs) -> requests.Response:\n",
    "        ts=int(time())\n",
    "        auth_hash = self.generate_auth_hash(ts) \n",
    "        auth_hash_data = {\n",
    "            \"ts\": ts,\n",
    "            \"apikey\": self._public,\n",
    "            \"hash\": auth_hash\n",
    "        }\n",
    "        params.update(auth_hash_data)\n",
    "        return requests.get(url, params=params, **kwargs)\n",
    "\n",
    "    def write(self, f_name):\n",
    "        with open(f\"/tmp/{f_name}\", \"w\") as f:\n",
    "            f.write(json.dumps(repos))"
   ]
  },
  {
   "cell_type": "code",
   "execution_count": 12,
   "metadata": {
    "pycharm": {
     "is_executing": false,
     "name": "#%%\n"
    }
   },
   "outputs": [],
   "source": [
    "marver_service = MarvelApi(config)"
   ]
  },
  {
   "cell_type": "code",
   "execution_count": 13,
   "metadata": {
    "pycharm": {
     "is_executing": false
    }
   },
   "outputs": [],
   "source": [
    "comics = marver_service.comics().json()"
   ]
  },
  {
   "cell_type": "code",
   "execution_count": 15,
   "metadata": {
    "pycharm": {
     "is_executing": false,
     "name": "#%%\n"
    }
   },
   "outputs": [
    {
     "name": "stdout",
     "output_type": "stream",
     "text": [
      "['Spider-Man/Deadpool (2016) #55',\n",
      " 'Ms. Marvel (2015) #45',\n",
      " 'X-Men: Days of Future Past (Trade Paperback)',\n",
      " 'Ant-Man (2003) #1',\n",
      " 'Official Handbook of the Marvel Universe (2004) #9 (THE WOMEN OF MARVEL)',\n",
      " 'Official Handbook of the Marvel Universe (2004) #13 (TEAMS)',\n",
      " 'Ant-Man (2003) #4',\n",
      " 'Marvel Milestones (2005) #22',\n",
      " 'Gun Theory (2003) #3',\n",
      " 'Official Handbook of the Marvel Universe (2004) #14 (FANTASTIC FOUR)',\n",
      " 'Official Handbook of the Marvel Universe (2004) #12 (SPIDER-MAN)',\n",
      " 'Ultimate X-Men Vol. 5: Ultimate War (Trade Paperback)',\n",
      " 'Ant-Man (2003) #2',\n",
      " 'Amazing Spider-Man 500 Covers Slipcase - Book II (Trade Paperback)',\n",
      " 'Sentry, the (Trade Paperback)',\n",
      " 'Ant-Man (2003) #3',\n",
      " 'Startling Stories: The Incorrigible Hulk (2004) #1',\n",
      " 'Official Handbook of the Marvel Universe (2004) #11 (X-MEN - AGE OF '\n",
      " 'APOCALYPSE)',\n",
      " 'Marvel Age Spider-Man Vol. 2: Everyday Hero (Digest)',\n",
      " 'Gun Theory (2003) #4']\n"
     ]
    }
   ],
   "source": [
    "pprint([comic[\"title\"] for comic in comics['data']['results']])"
   ]
  },
  {
   "cell_type": "code",
   "execution_count": 16,
   "metadata": {},
   "outputs": [],
   "source": [
    "marver_service.write(\"comics.json\")"
   ]
  },
  {
   "cell_type": "code",
   "execution_count": null,
   "metadata": {},
   "outputs": [],
   "source": []
  }
 ],
 "metadata": {
  "kernelspec": {
   "display_name": "Python 3",
   "language": "python",
   "name": "python3"
  },
  "language_info": {
   "codemirror_mode": {
    "name": "ipython",
    "version": 3
   },
   "file_extension": ".py",
   "mimetype": "text/x-python",
   "name": "python",
   "nbconvert_exporter": "python",
   "pygments_lexer": "ipython3",
   "version": "3.7.3"
  },
  "pycharm": {
   "stem_cell": {
    "cell_type": "raw",
    "source": [],
    "metadata": {
     "collapsed": false
    }
   }
  }
 },
 "nbformat": 4,
 "nbformat_minor": 1
}